{
 "cells": [
  {
   "cell_type": "markdown",
   "metadata": {
    "collapsed": true
   },
   "source": [
    "## 1. Write python code to give the length of the longest common subsequence for two strings."
   ]
  },
  {
   "cell_type": "code",
   "execution_count": 19,
   "metadata": {
    "collapsed": true
   },
   "outputs": [],
   "source": [
    "def len_lcs(x, y): # Inspired by the pseudocode from Introduction to Algorithms, Cormen et al.\n",
    "    \"\"\"Returns the length of the two strings\"\"\"\n",
    "    \n",
    "    # Protection against bad inputs\n",
    "    if type(x) != str or type(y) != str:\n",
    "        raise TypeError('Inputs must be strings')\n",
    "    \n",
    "    # Length of the two strings, used as array dimensions\n",
    "    m = len(x)\n",
    "    n = len(y)\n",
    "    \n",
    "    # Setting up the array of size (m+1)(n+1)\n",
    "    c = [[0 for x in range(n + 1)] for y in range(m + 1)]\n",
    "    for i in range(m):  # Iterate from x[0] -> x[m - 1]\n",
    "        for j in range(n):  # Iterate from y[0] -> y[n - 1]\n",
    "            # If the last elements of the strings are the same\n",
    "            if x[i] == y[j]:  \n",
    "                c[i + 1][j + 1] = c[i][j] + 1\n",
    "            \n",
    "             # If the last elements of the strings are different, case 1\n",
    "            elif c[i][j + 1] >= c[i + 1][j]:\n",
    "                c[i + 1][j + 1] = c[i][j + 1]\n",
    "            else:  # Case 2\n",
    "                c[i + 1][j + 1] = c[i + 1][j]\n",
    "    return c[m][n]  # Return the length of the LCS of the two full strings"
   ]
  },
  {
   "cell_type": "markdown",
   "metadata": {},
   "source": [
    "## 2. Generate the table of the lengths of the longest common subsequences for every pair of strings."
   ]
  },
  {
   "cell_type": "code",
   "execution_count": 20,
   "metadata": {},
   "outputs": [
    {
     "name": "stdout",
     "output_type": "stream",
     "text": [
      "Gene   1  2  3  4  5   6   7\n",
      "   1 100 74 76 73 82  84  91\n",
      "   2  74 90 67 72 80  70  71\n",
      "   3  76 67 97 65 69  81  84\n",
      "   4  73 72 65 96 81  71  69\n",
      "   5  82 80 69 81 96  74  75\n",
      "   6  84 70 81 71 74 111  97\n",
      "   7  91 71 84 69 75  97 104\n"
     ]
    }
   ],
   "source": [
    "# The list of genes\n",
    "str1 = 'CAGCGGGTGCGTAATTTGGAGAAGTTATTCTGCAACGAAATCAATCCTGTTTCGTTAGCTTACGGACTACGACGAGAGGGTACTTCCCTGATATAGTCAC'\n",
    "str2 = 'CAAGTCGGGCGTATTGGAGAATATTTAAATCGGAAGATCATGTTACTATGCGTTAGCTCACGGACTGAAGAGGATTCTCTCTTAATGCAA'\n",
    "str3 = 'CATGGGTGCGTCGATTTTGGCAGTAAAGTGGAATCGTCAGATATCAATCCTGTTTCGTAGAAAGGAGCTACCTAGAGAGGATTACTCTCACATAGTA'\n",
    "str4 = 'CAAGTCCGCGATAAATTGGAATATTTGTCAATCGGAATAGTCAACTTAGCTGGCGTTAGCTTTACGACTGACAGAGAGAAACCTGTCCATCACACA'\n",
    "str5 = 'CAAGTCCGGCGTAATTGGAGAATATTTTGCAATCGGAAGATCAATCTTGTTAGCGTTAGCTTACGACTGACGAGAGGGATACTCTCTCTAATACAA'\n",
    "str6 = 'CACGGGCTCCGCAATTTTGGGTCAAGTTGCATATCAGTCATCGACAATCAAACACTGTTTTGCGGTAGATAAGATACGACTGAGAGAGGACGTTCGCTCGAATATAGTTAC'\n",
    "str7 = 'CACGGGTCCGTCAATTTTGGAGTAAGTTGATATCGTCACGAAATCAATCCTGTTTCGGTAGTATAGGACTACGACGAGAGAGGACGTTCCTCTGATATAGTTAC'\n",
    "genes = [str1, str2, str3, str4, str5, str6, str7]\n",
    "\n",
    "\n",
    "def print_table(lst):\n",
    "    data = []\n",
    "    data.append(['Gene', 1,2,3,4,5,6,7])\n",
    "    for i in range(len(lst)):\n",
    "        result_lst = []\n",
    "        for j in range(len(lst)):\n",
    "            result_lst.append(len_lcs(lst[i], lst[j]))\n",
    "        result_lst.insert(0, i + 1)\n",
    "        data.append(result_lst)\n",
    "    lens = [max(len(str(col)) for col in row) for row in data]\n",
    "    for row in zip(*data):\n",
    "        print('{:>{lens[0]}} {:>{lens[1]}} {:>{lens[2]}} {:>{lens[3]}} {:>{lens[4]}} {:>{lens[5]}} {:>{lens[6]}} {:>{lens[7]}}'.format(*row, lens=lens))\n",
    "\n",
    "\n",
    "print_table(genes)"
   ]
  },
  {
   "cell_type": "markdown",
   "metadata": {},
   "source": [
    "## 3. Manually examine the table, and infer the relationships between strings."
   ]
  },
  {
   "cell_type": "markdown",
   "metadata": {},
   "source": [
    "My approach is to examine each row in the table (first row/column represents the first gene) and find the largest value in the row. My assumption is that this LCS value tells us which other gene is the current gene most closely related to. I take note of this association for row as I progress through the rows. The results are:\n",
    "\n",
    "- Gene 1 - Gene 7: 91\n",
    "- Gene 2 - Gene 5: 80\n",
    "- Gene 3 - Gene 7: 84\n",
    "- Gene 4 - Gene 5: 81\n",
    "- Gene 5 - Gene 1: 82\n",
    "- Gene 6 - Gene 7: 97\n",
    "- Gene 7 - Gene 6: 97\n",
    "\n",
    "From these associations, only when Gene 1 is treated as the \"root\" of the binary tree resulted from the gene mutations can we get a complete binary tree. The tree would look like the following illustration:"
   ]
  },
  {
   "cell_type": "code",
   "execution_count": 21,
   "metadata": {},
   "outputs": [
    {
     "data": {
      "image/png": "[encoded data removed]",
      "text/plain": [
       "<IPython.core.display.Image object>"
      ]
     },
     "execution_count": 21,
     "metadata": {},
     "output_type": "execute_result"
    }
   ],
   "source": [
    "from IPython.display import Image\n",
    "filename = \"Binary Tree.png\"\n",
    "Image(filename)"
   ]
  },
  {
   "cell_type": "markdown",
   "metadata": {},
   "source": [
    "## 4. How would you estimate the probabilities of mutation, insertions and deletions? (There might not be enough data to give meaningful estimates, but at least have a clear idea of the approach.)"
   ]
  },
  {
   "cell_type": "markdown",
   "metadata": {},
   "source": [
    "### Assumptions:\n",
    "- Mutations happen optimally. That is, for a gene X to turn into a gene Y, a minimum total of insertions, deletions, and substitutions are used. This assumption is made for the sake of simplifying the problem.\n",
    "- Mutations happen independently. Knowing that a mutation happens does not tell us anything about whether another mutation will or will not happen.\n",
    "- The probability of mutation is the same with every gene and its offsprings. Each element in gene X has a certain probability for mutation and each element in the offsprings of gene X has the same probability.\n",
    "- The parent-child relationships of the genes are known before the calculations of the probabilities, and mutations only occur between parent-child pairs outline by the known relationships.\n",
    "\n",
    "### Explanation of approach:\n",
    "\n",
    "With these assumptions, I will calculate the minimum number of edits (insertions, deletions, and substitutions) required to turn one gene into another, noting the exact number of insertions, deletions, and substitutions. In this case, I will do this for six pairs of genes based on the relationships found in part 3: (1 - 5), (1 - 7), (5 - 2), (5 - 4), (7 - 6), and (7 - 3). For each pair, I will divide the number of insertions, deletions, and substitutions by the total number of mutations to get the probability of insertions, deletions, and substitutions, respectively, **if** a mutation in general happens. Finally, I will average the results of six pairs to get three final probabilities for insertions, deletions, and substitutions.\n",
    "\n",
    "This approach does not estimate the probability of a mutation happening in general; it only estimates the probability of an insertion, deletion, or substitution happening under the condition that a mutation occurs. As the prompt indicated, these seven genes might not give meaningful estimates, but if this approach is applied, then the result will be the following conditional probabilities (results are in the cell below)."
   ]
  },
  {
   "cell_type": "code",
   "execution_count": 22,
   "metadata": {},
   "outputs": [
    {
     "name": "stdout",
     "output_type": "stream",
     "text": [
      "The average probability of an insertion happening if a mutation happens is 0.2792560647251722\n",
      "The average probability of a deletion happening if a mutation happens is 0.3146860555327375\n",
      "The average probability of a substitution happening if a mutation happens is 0.40605787974209023\n"
     ]
    }
   ],
   "source": [
    "# The list of genes\n",
    "str1 = 'CAGCGGGTGCGTAATTTGGAGAAGTTATTCTGCAACGAAATCAATCCTGTTTCGTTAGCTTACGGACTACGACGAGAGGGTACTTCCCTGATATAGTCAC'\n",
    "str2 = 'CAAGTCGGGCGTATTGGAGAATATTTAAATCGGAAGATCATGTTACTATGCGTTAGCTCACGGACTGAAGAGGATTCTCTCTTAATGCAA'\n",
    "str3 = 'CATGGGTGCGTCGATTTTGGCAGTAAAGTGGAATCGTCAGATATCAATCCTGTTTCGTAGAAAGGAGCTACCTAGAGAGGATTACTCTCACATAGTA'\n",
    "str4 = 'CAAGTCCGCGATAAATTGGAATATTTGTCAATCGGAATAGTCAACTTAGCTGGCGTTAGCTTTACGACTGACAGAGAGAAACCTGTCCATCACACA'\n",
    "str5 = 'CAAGTCCGGCGTAATTGGAGAATATTTTGCAATCGGAAGATCAATCTTGTTAGCGTTAGCTTACGACTGACGAGAGGGATACTCTCTCTAATACAA'\n",
    "str6 = 'CACGGGCTCCGCAATTTTGGGTCAAGTTGCATATCAGTCATCGACAATCAAACACTGTTTTGCGGTAGATAAGATACGACTGAGAGAGGACGTTCGCTCGAATATAGTTAC'\n",
    "str7 = 'CACGGGTCCGTCAATTTTGGAGTAAGTTGATATCGTCACGAAATCAATCCTGTTTCGGTAGTATAGGACTACGACGAGAGAGGACGTTCCTCTGATATAGTTAC'\n",
    "genes = [str1, str2, str3, str4, str5, str6, str7]\n",
    "\n",
    "\n",
    "# Implementation and results:\n",
    "def edit_dist(x, y):  # Inspired by the GeeksforGeeks' implementation.\n",
    "    \"\"\"Returns the minimum number of insertions, \n",
    "        deletions, and substitions needed to turn x -> y\"\"\"\n",
    "    \n",
    "    # Protection against bad inputs\n",
    "    if type(x) != str or type(y) != str:\n",
    "        raise TypeError('Inputs must be strings')\n",
    "    \n",
    "    # The lengths of the two strings, will be used as array dimensions\n",
    "    m = len(x)\n",
    "    n = len(y)\n",
    "    \n",
    "    # Initialize a table, similar to that of the LCS algorithm\n",
    "    table = [[0 for b in range(n + 1)] for c in range(m + 1)]\n",
    "    \n",
    "    # The nested for-loop traverses the table\n",
    "    for i in range(m + 1):\n",
    "        for j in range(n + 1):\n",
    "            # If x == null, the cost of x -> y is inserting every element of y\n",
    "            if i == 0:\n",
    "                table[i][j] = j\n",
    "            \n",
    "            # If y == null, the cost of x -> y is deleting every element of x\n",
    "            elif j == 0:\n",
    "                table[i][j] = i\n",
    "            # If the last elements of x and y are equal,\n",
    "            # the edit dist is that of table[i - 1][j - 1]\n",
    "            elif x[i - 1] == y[j - 1]:\n",
    "                table[i][j] = table[i - 1][j - 1]\n",
    "            # If the last elements of x and y are different, 3 cases:\n",
    "                # substituting an element from x\n",
    "                # inserting an element from x\n",
    "                # deleting an element from x\n",
    "            # The minimum of the three is chosen\n",
    "            else:\n",
    "                table[i][j] = 1 + min(table[i - 1][j - 1],\n",
    "                                  table[i][j - 1],\n",
    "                                  table[i - 1][j])\n",
    "\n",
    "            # 1 is added because we're making a new move\n",
    "\n",
    "    # Initializing i and j that points to the bottom-right cell of 'table'\n",
    "    i = m\n",
    "    j = n\n",
    "    ins = 0   # The number of insertions\n",
    "    dels = 0  # The number of deletions\n",
    "    subs = 0  # The number of substitutions\n",
    "    \n",
    "    # while loop retraces the path that the algorithm took to turn X into Y\n",
    "    while i != 0 and j != 0:   \n",
    "        if x[i - 1] == y[j - 1]:\n",
    "            # Check if the elements of x and y in these indices are equal\n",
    "            # If they are, then no edits are needed in those elements\n",
    "            # i and j are decremented\n",
    "            i -= 1\n",
    "            j -= 1\n",
    "        else:  # If the elements are different.\n",
    "            # The edit distance value prior to making a change\n",
    "            val = table[i][j] - 1\n",
    "            \n",
    "             # If the algorithm took the substitution route\n",
    "            if val == table[i - 1][j - 1]: \n",
    "                subs += 1\n",
    "                i -= 1\n",
    "                j -= 1\n",
    "            \n",
    "            # If the algorithm took the insertion route\n",
    "            elif val == table[i][j - 1]:  \n",
    "                ins += 1\n",
    "                j -= 1\n",
    "            \n",
    "            # The algorithm took the deletion route/ val == table[i - 1][j]\n",
    "            else:  \n",
    "                dels += 1\n",
    "                i -= 1\n",
    "\n",
    "    return ins, dels, subs\n",
    "\n",
    "\n",
    "def prob():\n",
    "    result_lst = [edit_dist(str1, str5), edit_dist(str1, str7),\n",
    "                  edit_dist(str5, str2), edit_dist(str5, str4),\n",
    "                  edit_dist(str7, str6), edit_dist(str7, str3)]\n",
    "    prob_ins = []\n",
    "    prob_dels = []\n",
    "    prob_subs = []\n",
    "\n",
    "    for i in result_lst:\n",
    "        for j in range(len(i)):\n",
    "            if j == 0:\n",
    "                prob_ins.append(i[j]/sum(i))\n",
    "            elif j == 1:\n",
    "                prob_dels.append(i[j]/sum(i))\n",
    "            else:\n",
    "                prob_subs.append(i[j]/sum(i))\n",
    "    avg_ins = sum(prob_ins)/len(prob_ins)\n",
    "    avg_dels = sum(prob_dels)/len(prob_dels)\n",
    "    avg_subs = sum(prob_subs)/len(prob_subs)\n",
    "\n",
    "    print('The average probability of an insertion happening if a mutation happens is', avg_ins)\n",
    "    print('The average probability of a deletion happening if a mutation happens is', avg_dels)\n",
    "    print('The average probability of a substitution happening if a mutation happens is', avg_subs)\n",
    "\n",
    "    \n",
    "prob()"
   ]
  },
  {
   "cell_type": "markdown",
   "metadata": {
    "collapsed": true
   },
   "source": [
    "## 5. Can you devise an algorithm in the general case which might be able to infer such a tree of relationships? Give any strengths or weaknesses of your suggested algorithm."
   ]
  },
  {
   "cell_type": "code",
   "execution_count": 23,
   "metadata": {},
   "outputs": [
    {
     "name": "stdout",
     "output_type": "stream",
     "text": [
      "[(1, 7), (2, 5), (3, 7), (4, 5), (5, 1), (6, 7), (7, 6)]\n"
     ]
    }
   ],
   "source": [
    "def rlts(lst=[]):\n",
    "    \"\"\"Returns the gene pairs in tuples, takes an list of genes (strings)\"\"\"\n",
    "    \n",
    "    # Will contain pairs of genes in tuples\n",
    "    pairs = []\n",
    "    \n",
    "    # Nested loop traversing a 2D array\n",
    "    for i in range(len(lst)):\n",
    "        \n",
    "        # Initiate a variable to hold the maximum LCS value\n",
    "        max_lcs = 0\n",
    "        \n",
    "        # Initiate a variable to refer to the gene with which the current gene has the highest LCS\n",
    "        match = None  \n",
    "        for j in range(len(lst)):\n",
    "            \n",
    "            # Avoid comparing with itself\n",
    "            if lst[i] == lst[j]:  \n",
    "                continue\n",
    "                \n",
    "            # Uses the len_lcs function in part 1\n",
    "            lcs = len_lcs(lst[i], lst[j])\n",
    "            \n",
    "            # Checks if the current LCS is the largest\n",
    "            if lcs > max_lcs:\n",
    "                max_lcs = lcs\n",
    "                match = j\n",
    "        \n",
    "        # Appends the pair after going through a row in the table\n",
    "        pairs.append((i + 1, match + 1))\n",
    "        \n",
    "        # To match the output with the illustration above, \n",
    "        #'i' and 'match' are incremented by 1 before being appended.\n",
    "        # The relationships are still the same.\n",
    "\n",
    "    return pairs  \n",
    "    # Given these pairs, it is a possible to create a binary tree.\n",
    "    # Interpretation of output: (x,y) = the xth gene in the order of the array \n",
    "    # given to the function is related to the yth gene in the same array.\n",
    "    # Ex: (1, 7) = the 1st gene in the array is related to the 7th gene in the array.\n",
    "\n",
    "\n",
    "print(rlts(genes))"
   ]
  },
  {
   "cell_type": "markdown",
   "metadata": {},
   "source": [
    "### Discussion\n",
    "\n",
    "- Weakness:\n",
    "    *  The algorithm works under the assumptions that the parent-child relationships of the genes are dictated by the lengths of the LCSs, as shown in the code, and that these relationships can be presented in a single binary tree (showing the relationships of the genes as a tree is not a part of this algorithm). If any of these assumptions are false, then the algorithm will not return the correct answer.\n",
    "    *  The code is recalculating the same LCS twice, since len_lcs(gene1, gene2) is the same as len_lcs(gene2, gene1)."
   ]
  },
  {
   "cell_type": "markdown",
   "metadata": {},
   "source": [
    "## 6. Describe the complexity of your solution to identify related “genes” for this assignment. (Let M be the length of a gene, and N be the number of genes.)"
   ]
  },
  {
   "cell_type": "markdown",
   "metadata": {},
   "source": [
    "To generalize, let M be the length of the all the genes that are given to the algorithm (even though the lengths of the genes are not exactly equal in reality) and N be the number of genes.\n",
    "\n",
    "### Time complexity:\n",
    "\n",
    "The algorithm has two main components: the nested for-loop and the function len_lcs() (defined in part 1). len_lcs() runs in O(M x M) = O(M^2) time because it has to go through every cell in the 2D array that it creates. len_lcs() is called N x (N - 1) times because it is in the nested for-loop of rlts(). Therefore, rlts() runs in O(M^2 x N^2 - M^2 x N) = O(M^2 x N^2) time, where M is the length of a gene and N is total the number of genes.\n",
    "\n",
    "### Space complexity:\n",
    "\n",
    "The bulk of the space in rlts() is used for the matrix in len_lcs(). Even though len_lcs() will create a lot of matrices during the runtime of rlts(), these matrices are fortunately local to the function len_lcs(). This means that a matrix is created when len_lcs() is called and the same matrix is deleted when len_lcs() exits. Therefore, the space complexity of rlts() is O(M^2), which represents the size of the matrix created each time len_lcs() is called."
   ]
  },
  {
   "cell_type": "markdown",
   "metadata": {},
   "source": [
    "## HC's:\n",
    "\n",
    "- #breakitdown: For the coding portion of part 4, I broke the problem into 3 parts: writing the code that calculates the edit distance, the code that retraces the steps that the algorithm took, and the code that calculates the probabilities."
   ]
  },
  {
   "cell_type": "markdown",
   "metadata": {},
   "source": [
    "## Citations:\n",
    "- Cormen, T. H., Leiserson, C. E., Rivest, R. L., & Stein, C. (2009). Introduction to Algorithms (3rd ed.)\n",
    "- Edit Distance | DP-5. (2018, September 28). Retrieved December 11, 2018, from https://www.geeksforgeeks.org/edit-distance-dp-5/"
   ]
  }
 ],
 "metadata": {
  "kernelspec": {
   "display_name": "Python 3",
   "language": "python",
   "name": "python3"
  },
  "language_info": {
   "codemirror_mode": {
    "name": "ipython",
    "version": 3
   },
   "file_extension": ".py",
   "mimetype": "text/x-python",
   "name": "python",
   "nbconvert_exporter": "python",
   "pygments_lexer": "ipython3",
   "version": "3.6.1"
  }
 },
 "nbformat": 4,
 "nbformat_minor": 2
}
