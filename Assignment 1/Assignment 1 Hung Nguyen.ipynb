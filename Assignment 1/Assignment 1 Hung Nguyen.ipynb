{
 "cells": [
  {
   "cell_type": "markdown",
   "metadata": {
    "collapsed": true
   },
   "source": [
    "1, (#sort) Implement three-way merge sort in Python. It should at a minimum accept lists of integers as input."
   ]
  },
  {
   "cell_type": "code",
   "execution_count": 21,
   "metadata": {},
   "outputs": [
    {
     "name": "stdout",
     "output_type": "stream",
     "text": [
      "Sorted with 3-way merge sort [1, 2, 3, 4, 5, 6, 7, 8, 9, 10]\n"
     ]
    }
   ],
   "source": [
    "def three_way_merge(alist):\n",
    "    # Solve for edge case: a list of 2 cannot be further divided by 3.\n",
    "    if len(alist) == 2:\n",
    "        if alist[1] < alist[0]:\n",
    "            alist[1], alist[0] = alist[0], alist[1]\n",
    "\n",
    "    if len(alist) >= 3:\n",
    "        mid1 = len(alist)//3\n",
    "        mid2 = mid1*2\n",
    "\n",
    "        # Divide the list using slicing.\n",
    "        left = alist[:mid1]\n",
    "        middle = alist[mid1:mid2]\n",
    "        right = alist[mid2:]\n",
    "\n",
    "        # Recursively call three_way_merge on the three thirds.\n",
    "        three_way_merge(left)\n",
    "        three_way_merge(middle)\n",
    "        three_way_merge(right)\n",
    "\n",
    "        i = 0\n",
    "        y = 0\n",
    "        j = 0\n",
    "        k = 0\n",
    "        \n",
    "        \n",
    "        # Merging the three sublists\n",
    "        while i < len(left) or y < len(middle) or j < len(right):\n",
    "            # min_val is used to keep track of the smallest element in the current loop instance.\n",
    "            min_val = float('inf')\n",
    "\n",
    "            # 'if' clauses are used to avoid index errors when two of the\n",
    "            # three list has been exhausted\n",
    "            if i < len(left):\n",
    "                if left[i] < min_val:\n",
    "                    min_val = left[i]\n",
    "\n",
    "            if y < len(middle):\n",
    "                if middle[y] < min_val:\n",
    "                    min_val = middle[y]\n",
    "\n",
    "            if j < len(right):\n",
    "                if right[j] < min_val:\n",
    "                    min_val = right[j]\n",
    "\n",
    "            alist[k] = min_val\n",
    "            k += 1\n",
    "            \n",
    "            # Incrementation of either i, y, or j based on what min_val is at the end of the loop.\n",
    "            if i < len(left):\n",
    "                if min_val == left[i]:\n",
    "                    i += 1\n",
    "\n",
    "            if y < len(middle):\n",
    "                if min_val == middle[y]:\n",
    "                    y += 1\n",
    "\n",
    "            if j < len(right):\n",
    "                if min_val == right[j]:\n",
    "                    j += 1\n",
    "\n",
    "lst = [10,9,8,7,6,5,4,3,2,1]\n",
    "three_way_merge(lst)\n",
    "print(\"Sorted with 3-way merge sort {}\".format(lst))"
   ]
  },
  {
   "cell_type": "markdown",
   "metadata": {},
   "source": [
    "2, (#sort) Implement a second version of three-way merge sort that calls insertion sort when sublists are below a certain length (of your choice) rather than continuing the subdivision process."
   ]
  },
  {
   "cell_type": "code",
   "execution_count": 15,
   "metadata": {},
   "outputs": [
    {
     "name": "stdout",
     "output_type": "stream",
     "text": [
      "Sorted with merge sort + insertion sort [1, 2, 3, 4, 5, 6, 7, 8, 9, 10]\n"
     ]
    }
   ],
   "source": [
    "def merge_insertion(alist):\n",
    "    # If the length of the list is below the chosen index, insertion sort is called.\n",
    "    if len(alist) < 4:\n",
    "        insertionsort(alist)\n",
    "\n",
    "    if len(alist) >= 4:\n",
    "        mid1 = len(alist)//3\n",
    "        mid2 = mid1*2\n",
    "\n",
    "        # Divide the list using slicing.\n",
    "        left = alist[:mid1]\n",
    "        middle = alist[mid1:mid2]\n",
    "        right = alist[mid2:]\n",
    "\n",
    "        # Recursively call three_way_merge on the three thirds.\n",
    "        merge_insertion(left)\n",
    "        merge_insertion(middle)\n",
    "        merge_insertion(right)\n",
    "\n",
    "        # i, y, j are indices of left, middle, and right.\n",
    "        # k is the index of the main list.\n",
    "        i = 0\n",
    "        y = 0\n",
    "        j = 0\n",
    "        k = 0\n",
    "        \n",
    "        # Merging\n",
    "        while i < len(left) or y < len(middle) or j < len(right):\n",
    "            # min_val is used to keep track of the smallest element in the current loop instance.\n",
    "            min_val = float('inf')\n",
    "\n",
    "            # 'if' clauses are used to avoid index errors when two of the\n",
    "            # three list has been exhausted\n",
    "            if i < len(left):\n",
    "                if left[i] < min_val:\n",
    "                    min_val = left[i]\n",
    "\n",
    "            if y < len(middle):\n",
    "                if middle[y] < min_val:\n",
    "                    min_val = middle[y]\n",
    "\n",
    "            if j < len(right):\n",
    "                if right[j] < min_val:\n",
    "                    min_val = right[j]\n",
    "\n",
    "            alist[k] = min_val\n",
    "            k += 1\n",
    "\n",
    "            # Incrementation of either i, y, or j based on what min_val is at the end of the loop.\n",
    "            if i < len(left):\n",
    "                if min_val == left[i]:\n",
    "                    i += 1\n",
    "\n",
    "            if y < len(middle):\n",
    "                if min_val == middle[y]:\n",
    "                    y += 1\n",
    "\n",
    "            if j < len(right):\n",
    "                if min_val == right[j]:\n",
    "                    j += 1\n",
    "\n",
    "lst = [10,9,8,7,6,5,4,3,2,1]\n",
    "merge_insertion(lst)\n",
    "print(\"Sorted with merge sort + insertion sort {}\".format(lst))"
   ]
  },
  {
   "cell_type": "markdown",
   "metadata": {},
   "source": [
    "3, (#complexity, #optimalalgorithm) Analyze and compare the practical run times of regular merge sort, three-way merge sort, and the augmented merge sort from (2). Make sure to define what each algorithm's complexity is and to enumerate the explicit assumptions made to assess each algorithm's run time. Your results should be presented in a table, along with an explanatory paragraph and any useful graphs or other charts to document your approach. Part of your analysis should indicate whether or not there is a “best” variation. Compare your benchmarks with the theoretical result we have discussed in class."
   ]
  },
  {
   "cell_type": "code",
   "execution_count": 17,
   "metadata": {},
   "outputs": [
    {
     "name": "stdout",
     "output_type": "stream",
     "text": [
      "Sorted with 2-way merge sort [1, 2, 3, 4, 5, 6, 7, 8, 9, 10]\n"
     ]
    }
   ],
   "source": [
    "# 2-way Merge Sort.\n",
    "def mergesort (A, start, end):\n",
    "    if start < end:\n",
    "        mid = (start + end) // 2\n",
    "        \n",
    "        # Calling merge sort using new mid, start, and end points.\n",
    "        mergesort(A, start, mid)\n",
    "        mergesort(A, mid + 1, end)\n",
    "        merge(A, start, mid, end)\n",
    "    return A\n",
    "\n",
    "\n",
    "def merge(A, start, mid, end):\n",
    "    # Copying data from original list into separate lists L and R for scratch space.\n",
    "    n1 = mid - start + 1\n",
    "    n2 = end - mid\n",
    "    L = [None]*(n1 + 1)\n",
    "    R = [None]*(n2 + 1)\n",
    "    for i in range(n1):\n",
    "        L[i] = A[start + i]\n",
    "    for j in range(n2):\n",
    "        R[j] = A[mid + 1 + j]\n",
    "    L[n1] = float('inf')\n",
    "    R[n2] = float('inf')\n",
    "    i = 0\n",
    "    j = 0\n",
    "    \n",
    "    # Comparing elements in the two data lists, putting values back in the original list accordingly.\n",
    "    for k in range(start, end + 1):\n",
    "        if L[i] <= R[j]:\n",
    "            A[k] = L[i]\n",
    "            i += 1\n",
    "        else:\n",
    "            A[k] = R[j]\n",
    "            j += 1\n",
    "            \n",
    "lst = [10,9,8,7,6,5,4,3,2,1]\n",
    "mergesort(lst, 0, len(lst) - 1)\n",
    "print(\"Sorted with 2-way merge sort {}\".format(lst))"
   ]
  },
  {
   "cell_type": "code",
   "execution_count": 19,
   "metadata": {},
   "outputs": [
    {
     "data": {
      "image/png": "[encoded data removed]",
      "text/plain": [
       "<matplotlib.figure.Figure at 0x28d3aba8240>"
      ]
     },
     "metadata": {},
     "output_type": "display_data"
    }
   ],
   "source": [
    "import time\n",
    "import matplotlib.pyplot as plt\n",
    "import random\n",
    "\n",
    "# This function might take some time to run depending on how length_lst and repeats are chosen.\n",
    "def graph_runtimes(length_lst, repeats):\n",
    "    merge_avg = []\n",
    "    three_way_avg = []\n",
    "    merge_insert_avg = []\n",
    "\n",
    "    for i in range(length_lst):\n",
    "        merge_lst = []\n",
    "        three_way_lst = []\n",
    "        merge_insert_lst = []\n",
    "        \n",
    "        # repeats tells the for loop how many times to run the sort algorithms on mylist.\n",
    "        # The larger repeats is, the more accurate the test will be.\n",
    "        for x in range(repeats):\n",
    "            # mylist is randomized at the beginning of every loop\n",
    "            mylist = random.sample(range(i), i)\n",
    "            \n",
    "            # The running time of each algorithm on mylist is recorded in corresponding lists.\n",
    "            start_time = time.time()\n",
    "            mergesort(mylist, 0, len(mylist) - 1)\n",
    "            finish_time = time.time() - start_time\n",
    "            merge_lst.append(finish_time)\n",
    "\n",
    "            start_time = time.time()\n",
    "            three_way_merge(mylist)\n",
    "            finish_time = time.time() - start_time\n",
    "            three_way_lst.append(finish_time)\n",
    "\n",
    "            start_time = time.time()\n",
    "            merge_insertion(mylist)\n",
    "            finish_time = time.time() - start_time\n",
    "            merge_insert_lst.append(finish_time)\n",
    "        \n",
    "        # Results of the for loop are averaged.\n",
    "        avg_merge = sum(merge_lst)/len(merge_lst)\n",
    "        avg_three_way = sum(three_way_lst)/len(three_way_lst)\n",
    "        avg_merge_insert = sum(merge_insert_lst)/len(merge_insert_lst)\n",
    "        \n",
    "        # Storing the average runtimes on different lengths of my list to another set of lists.\n",
    "        merge_avg.append(avg_merge)\n",
    "        three_way_avg.append(avg_three_way)\n",
    "        merge_insert_avg.append(avg_merge_insert)\n",
    "\n",
    "    plt.plot(merge_avg, color='red', label = '2-way Merge')\n",
    "    plt.plot(three_way_avg, color='blue', label = '3-way Merge')\n",
    "    plt.plot(merge_insert_avg, color='green', label = '3-way Insertion Merge')\n",
    "    plt.xlabel(\"Length of the list\")\n",
    "    plt.ylabel(\"Average run-time\")\n",
    "    plt.legend()\n",
    "    plt.show()\n",
    "    \n",
    "graph_runtimes(200, 1000)"
   ]
  },
  {
   "cell_type": "markdown",
   "metadata": {},
   "source": [
    "3.1 Practical run-time analysis:\n",
    "\n",
    "This practical analysis will be based on the running time of each algorithm (measured in seconds) running on my current system, using a four-core Intel I7 - 7700HQ. Though the running times will be different on other systems, the relative difference between each algorithm will be the same.\n",
    "\n",
    "I define \"practical run-time\" as the average time each algorithm takes to sort a random list of n integers. In other words, imagine if people (who have the same system specifications) used these algorithms on their own list of size n, what would be the average run-time that they can expect?\n",
    "\n",
    "To test this, I produced a graph using the function graph_runtimes(). Given an x-value, say 100, the function will generate many randomized lists of size 100, record the run-times of each sorting algorithm on those lists, average the results for each algorithm, and plot them on the graph. As the graph shows, with my current implementations of these algorithms, as the number of elements in the list increases, the gap between the average runtime of 2-way merge sort and those of the two other algorithms also increases. Therefore, from the practical perspective defined above, 2-way merge sort comes out on top as the size of the list increases."
   ]
  },
  {
   "cell_type": "markdown",
   "metadata": {},
   "source": [
    "3.2 Complexity analysis:\n",
    "\n",
    "(a) 2-way merge sort: Assuming that the problem size n is a power of 2, and problem of size n = 1 takes constant time, the running time of 2-way merge sort can be described by the following recurrence: T(n) = 2T(n/2) + theta(n), which is equal to theta n(lg(n)), as discussed in class.\n",
    "\n",
    "(b) 3-way merge sort: Assuming that the problem size n is a power of 3, and problem of size n = 1 takes constant time, the running time of 3-way merge sort can be described by the following recurrence: T(n) = 3T(n/3) + theta(n). With the current implementation, dividing the original list takes linear time due to slicing, and merging the list also takes linear time. The complexity is thus theta(n(log3(n))).\n",
    "\n",
    "(c) 3-way merge sort with insertion sort: Assuming that the problem size n is a power of 3, and the problem of size n = 3 takes O(n^2) in the worst case or linear time in the best case. This is because at n = 3 (or at any other chosen point where the subdivision process stops), insertion sort is called, and that algorithm is an O(n^2) or linear process.\n",
    "\n",
    "The recurrence: T(n): (n = 3) O(n^2); (n > 3) 3T(n/3) + Theta(n). \n",
    "\n",
    "Applying the recursion tree train of thought, the total amount of work done in the tree in the worst case is: n(log3(n) - 2) + 3^2.3^(log3(n) - 1) = n(log3(n)) - 2n + (9n)/3 = n(log3(n)) + n = Theta(n(log3(n))). \n",
    "\n",
    "In the best case, the amount of work is: n(log3(n) - 2) + 3.3^(log3(n) - 1) = n(log3(n)) - 2n + (3n)/3 = n(log3(n)) - n = theta(n(log3(n)))\n",
    "\n",
    "This calculation is dependent on what we choose as the point where insertion sort is called. Here we chose n = 3, but it is very possible that n could be any other number. In this case, the effect of insertion sort on the recurrence will always be linear in both the best and worst case, and so the time complexity for this algorithm is still Theta(n(log3(n)))\n",
    "\n",
    "In conclusion, theoretically and with this implementation, both 3-way mergesort and 3-way mergesort with insertion should be faster than 2-way mergesort. How these algorithms grow is shown in the following table."
   ]
  },
  {
   "cell_type": "code",
   "execution_count": 20,
   "metadata": {},
   "outputs": [
    {
     "data": {
      "image/png": "[encoded data removed]",
      "text/plain": [
       "<IPython.core.display.Image object>"
      ]
     },
     "execution_count": 20,
     "metadata": {},
     "output_type": "execute_result"
    }
   ],
   "source": [
    "from IPython.display import Image\n",
    "filename = \"run time.png\"\n",
    "Image(filename)"
   ]
  },
  {
   "cell_type": "markdown",
   "metadata": {},
   "source": [
    "3.2 Conclusions:\n",
    "\n",
    "Even though a theoretical analysis of these algorithms favored the 3-way algorithms over the 2-way mergesort, a practical experiment showed otherwise. Due to the randomness and the repetitiveness of the experiment, it is safe to rely on the experiment to conclude that 2-way mergesort is the best algorithm out of the three, with the current Python implementation.\n",
    "\n",
    "A possible reason for why the results of the theoretical and experimental analysis differ is that the current implementation for these algorithms are not fully optimized. With an optimized implementation, we will get a more conclusive answer."
   ]
  },
  {
   "cell_type": "markdown",
   "metadata": {},
   "source": [
    "Appendix\n",
    "\n",
    "- #breakitdown: While writing the code for 3-way mergesort, I treated the problem as three subproblems and coded accordingly. The subproblems were how to divide, conquer, and combine the original list so that the list is sorted.\n",
    "- #dataviz: I provided an explanation of how my graph was created and justified why it would best show the practical run-time of the sorting algorithms as a function of the list size according to my definition of \"practical\"."
   ]
  }
 ],
 "metadata": {
  "kernelspec": {
   "display_name": "Python 3",
   "language": "python",
   "name": "python3"
  },
  "language_info": {
   "codemirror_mode": {
    "name": "ipython",
    "version": 3
   },
   "file_extension": ".py",
   "mimetype": "text/x-python",
   "name": "python",
   "nbconvert_exporter": "python",
   "pygments_lexer": "ipython3",
   "version": "3.6.1"
  }
 },
 "nbformat": 4,
 "nbformat_minor": 2
}
